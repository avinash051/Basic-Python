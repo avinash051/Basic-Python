{
 "cells": [
  {
   "cell_type": "code",
   "execution_count": 1,
   "id": "ad437371",
   "metadata": {},
   "outputs": [
    {
     "name": "stdout",
     "output_type": "stream",
     "text": [
      "hello\n"
     ]
    }
   ],
   "source": [
    "print(\"hello\")"
   ]
  },
  {
   "cell_type": "code",
   "execution_count": 8,
   "id": "e4da444a",
   "metadata": {},
   "outputs": [],
   "source": [
    "s = \"ssspppdddyy\""
   ]
  },
  {
   "cell_type": "code",
   "execution_count": 9,
   "id": "9ee8dd9d",
   "metadata": {},
   "outputs": [
    {
     "name": "stdout",
     "output_type": "stream",
     "text": [
      "s : 3\n",
      "y : 2\n",
      "d : 3\n",
      "p : 3\n"
     ]
    }
   ],
   "source": [
    "for i in set(s):\n",
    "    print(i , \":\",s.count(i))"
   ]
  },
  {
   "cell_type": "code",
   "execution_count": 24,
   "id": "7b9f7fed",
   "metadata": {},
   "outputs": [],
   "source": [
    "t = (\"sudhu\", \"kumar\", [1,2,3,4,5], (3,4,5,6), {3:3,\"key1\": \"sudh\", \"key2\": \"kumar\"})"
   ]
  },
  {
   "cell_type": "code",
   "execution_count": 32,
   "id": "78724fed",
   "metadata": {},
   "outputs": [
    {
     "name": "stdout",
     "output_type": "stream",
     "text": [
      "3\n",
      "3\n",
      "3\n",
      "3\n",
      "3\n"
     ]
    }
   ],
   "source": [
    "for i in t:\n",
    "    if type(i)== list or type(i)== tuple or type(i)== dict:\n",
    "        for j in i :\n",
    "            if j ==3:\n",
    "                print (j)\n",
    "    if type(i)==dict :\n",
    "        for k,v in i.items():\n",
    "            if k ==3 or v ==3:\n",
    "            \n",
    "                print(k)\n",
    "                print(v)\n",
    "    "
   ]
  },
  {
   "cell_type": "code",
   "execution_count": null,
   "id": "3695ce47",
   "metadata": {},
   "outputs": [],
   "source": []
  },
  {
   "cell_type": "code",
   "execution_count": null,
   "id": "a86a7880",
   "metadata": {},
   "outputs": [],
   "source": []
  },
  {
   "cell_type": "code",
   "execution_count": null,
   "id": "5b92637c",
   "metadata": {},
   "outputs": [],
   "source": []
  }
 ],
 "metadata": {
  "kernelspec": {
   "display_name": "Python 3 (ipykernel)",
   "language": "python",
   "name": "python3"
  },
  "language_info": {
   "codemirror_mode": {
    "name": "ipython",
    "version": 3
   },
   "file_extension": ".py",
   "mimetype": "text/x-python",
   "name": "python",
   "nbconvert_exporter": "python",
   "pygments_lexer": "ipython3",
   "version": "3.9.7"
  }
 },
 "nbformat": 4,
 "nbformat_minor": 5
}
