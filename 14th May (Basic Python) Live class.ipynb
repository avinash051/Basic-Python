{
 "cells": [
  {
   "cell_type": "code",
   "execution_count": 2,
   "id": "61f37e9b",
   "metadata": {},
   "outputs": [
    {
     "data": {
      "text/plain": [
       "5"
      ]
     },
     "execution_count": 2,
     "metadata": {},
     "output_type": "execute_result"
    }
   ],
   "source": [
    "1+4\n"
   ]
  },
  {
   "cell_type": "code",
   "execution_count": 3,
   "id": "15ae9029",
   "metadata": {},
   "outputs": [
    {
     "data": {
      "text/plain": [
       "1"
      ]
     },
     "execution_count": 3,
     "metadata": {},
     "output_type": "execute_result"
    }
   ],
   "source": [
    "True- False"
   ]
  },
  {
   "cell_type": "code",
   "execution_count": 4,
   "id": "84ba5ef7",
   "metadata": {},
   "outputs": [
    {
     "data": {
      "text/plain": [
       "0"
      ]
     },
     "execution_count": 4,
     "metadata": {},
     "output_type": "execute_result"
    }
   ],
   "source": [
    "True - True"
   ]
  },
  {
   "cell_type": "code",
   "execution_count": 5,
   "id": "b13048e5",
   "metadata": {},
   "outputs": [
    {
     "data": {
      "text/plain": [
       "2"
      ]
     },
     "execution_count": 5,
     "metadata": {},
     "output_type": "execute_result"
    }
   ],
   "source": [
    "True + True"
   ]
  },
  {
   "cell_type": "code",
   "execution_count": 7,
   "id": "506d598f",
   "metadata": {},
   "outputs": [
    {
     "data": {
      "text/plain": [
       "1"
      ]
     },
     "execution_count": 7,
     "metadata": {},
     "output_type": "execute_result"
    }
   ],
   "source": [
    "True * True"
   ]
  },
  {
   "cell_type": "code",
   "execution_count": 10,
   "id": "893d1cf9",
   "metadata": {},
   "outputs": [],
   "source": [
    "n = 4 + 4j"
   ]
  },
  {
   "cell_type": "code",
   "execution_count": 12,
   "id": "bfb7d631",
   "metadata": {},
   "outputs": [
    {
     "data": {
      "text/plain": [
       "complex"
      ]
     },
     "execution_count": 12,
     "metadata": {},
     "output_type": "execute_result"
    }
   ],
   "source": [
    "type(n)"
   ]
  },
  {
   "cell_type": "code",
   "execution_count": 14,
   "id": "fcedd8ad",
   "metadata": {},
   "outputs": [],
   "source": [
    "p = 4 + 34j"
   ]
  },
  {
   "cell_type": "code",
   "execution_count": 15,
   "id": "ac5b528f",
   "metadata": {},
   "outputs": [
    {
     "data": {
      "text/plain": [
       "(8+38j)"
      ]
     },
     "execution_count": 15,
     "metadata": {},
     "output_type": "execute_result"
    }
   ],
   "source": [
    "n+p"
   ]
  },
  {
   "cell_type": "code",
   "execution_count": 16,
   "id": "db59ecf0",
   "metadata": {},
   "outputs": [
    {
     "data": {
      "text/plain": [
       "(8+8j)"
      ]
     },
     "execution_count": 16,
     "metadata": {},
     "output_type": "execute_result"
    }
   ],
   "source": [
    "n+n"
   ]
  },
  {
   "cell_type": "code",
   "execution_count": null,
   "id": "bdaa32ad",
   "metadata": {},
   "outputs": [],
   "source": [
    "0"
   ]
  },
  {
   "cell_type": "code",
   "execution_count": 17,
   "id": "e01fe0e2",
   "metadata": {},
   "outputs": [
    {
     "data": {
      "text/plain": [
       "4.0"
      ]
     },
     "execution_count": 17,
     "metadata": {},
     "output_type": "execute_result"
    }
   ],
   "source": [
    "n.real"
   ]
  },
  {
   "cell_type": "code",
   "execution_count": 18,
   "id": "cf1453e0",
   "metadata": {},
   "outputs": [
    {
     "data": {
      "text/plain": [
       "<function complex.conjugate>"
      ]
     },
     "execution_count": 18,
     "metadata": {},
     "output_type": "execute_result"
    }
   ],
   "source": [
    "n.conjugate"
   ]
  },
  {
   "cell_type": "code",
   "execution_count": 20,
   "id": "b0535b91",
   "metadata": {},
   "outputs": [
    {
     "data": {
      "text/plain": [
       "4.0"
      ]
     },
     "execution_count": 20,
     "metadata": {},
     "output_type": "execute_result"
    }
   ],
   "source": [
    "n.imag"
   ]
  },
  {
   "cell_type": "code",
   "execution_count": 21,
   "id": "8665fa8a",
   "metadata": {},
   "outputs": [
    {
     "data": {
      "text/plain": [
       "<function complex.conjugate>"
      ]
     },
     "execution_count": 21,
     "metadata": {},
     "output_type": "execute_result"
    }
   ],
   "source": [
    "n.conjugate"
   ]
  },
  {
   "cell_type": "code",
   "execution_count": 22,
   "id": "ff8559bf",
   "metadata": {},
   "outputs": [
    {
     "data": {
      "text/plain": [
       "4.0"
      ]
     },
     "execution_count": 22,
     "metadata": {},
     "output_type": "execute_result"
    }
   ],
   "source": [
    "n.real"
   ]
  },
  {
   "cell_type": "code",
   "execution_count": 23,
   "id": "7c03bd53",
   "metadata": {},
   "outputs": [],
   "source": [
    "    b =\"avinash\""
   ]
  },
  {
   "cell_type": "code",
   "execution_count": 24,
   "id": "cddc37f7",
   "metadata": {},
   "outputs": [
    {
     "data": {
      "text/plain": [
       "str"
      ]
     },
     "execution_count": 24,
     "metadata": {},
     "output_type": "execute_result"
    }
   ],
   "source": [
    "type(b)"
   ]
  },
  {
   "cell_type": "code",
   "execution_count": 26,
   "id": "f6679757",
   "metadata": {},
   "outputs": [],
   "source": [
    " l = [\"aviansh\", \"rahul\",34,45,45,45.34, True, 45, 4+4j, 45]"
   ]
  },
  {
   "cell_type": "code",
   "execution_count": 27,
   "id": "6af34967",
   "metadata": {},
   "outputs": [
    {
     "data": {
      "text/plain": [
       "['aviansh', 'rahul', 34, 45, 45, 45.34, True, 45, (4+4j), 45]"
      ]
     },
     "execution_count": 27,
     "metadata": {},
     "output_type": "execute_result"
    }
   ],
   "source": [
    "l\n"
   ]
  },
  {
   "cell_type": "code",
   "execution_count": 28,
   "id": "7d14d7ad",
   "metadata": {},
   "outputs": [
    {
     "data": {
      "text/plain": [
       "list"
      ]
     },
     "execution_count": 28,
     "metadata": {},
     "output_type": "execute_result"
    }
   ],
   "source": [
    "type(l)"
   ]
  },
  {
   "cell_type": "code",
   "execution_count": 29,
   "id": "cbc2a456",
   "metadata": {},
   "outputs": [
    {
     "data": {
      "text/plain": [
       "45"
      ]
     },
     "execution_count": 29,
     "metadata": {},
     "output_type": "execute_result"
    }
   ],
   "source": [
    "l[3]"
   ]
  },
  {
   "cell_type": "code",
   "execution_count": 30,
   "id": "b1a2cda2",
   "metadata": {},
   "outputs": [
    {
     "data": {
      "text/plain": [
       "{(4+4j), 34, 45, 45.34, True, 'aviansh', 'rahul'}"
      ]
     },
     "execution_count": 30,
     "metadata": {},
     "output_type": "execute_result"
    }
   ],
   "source": [
    "set(l)"
   ]
  },
  {
   "cell_type": "code",
   "execution_count": 31,
   "id": "ce96d1ae",
   "metadata": {},
   "outputs": [],
   "source": [
    "t = (344,23,3545,343,\"454545\",243,\"avin\")"
   ]
  },
  {
   "cell_type": "code",
   "execution_count": 32,
   "id": "ec3a8ad8",
   "metadata": {},
   "outputs": [
    {
     "data": {
      "text/plain": [
       "tuple"
      ]
     },
     "execution_count": 32,
     "metadata": {},
     "output_type": "execute_result"
    }
   ],
   "source": [
    "type(t)"
   ]
  },
  {
   "cell_type": "code",
   "execution_count": 33,
   "id": "b7dbd721",
   "metadata": {},
   "outputs": [],
   "source": [
    "d = {\"name\": \"avinash\", \"comp\": \"softnet\"}"
   ]
  },
  {
   "cell_type": "code",
   "execution_count": 34,
   "id": "82ced67e",
   "metadata": {},
   "outputs": [
    {
     "data": {
      "text/plain": [
       "dict"
      ]
     },
     "execution_count": 34,
     "metadata": {},
     "output_type": "execute_result"
    }
   ],
   "source": [
    "type(d)"
   ]
  },
  {
   "cell_type": "code",
   "execution_count": 49,
   "id": "02a6fa74",
   "metadata": {},
   "outputs": [],
   "source": [
    "d = {34,45,32,32, \"avin\", \"class\", \"3\"}"
   ]
  },
  {
   "cell_type": "code",
   "execution_count": 50,
   "id": "e5b83583",
   "metadata": {},
   "outputs": [
    {
     "data": {
      "text/plain": [
       "set"
      ]
     },
     "execution_count": 50,
     "metadata": {},
     "output_type": "execute_result"
    }
   ],
   "source": [
    "type(d)"
   ]
  }
 ],
 "metadata": {
  "kernelspec": {
   "display_name": "Python 3 (ipykernel)",
   "language": "python",
   "name": "python3"
  },
  "language_info": {
   "codemirror_mode": {
    "name": "ipython",
    "version": 3
   },
   "file_extension": ".py",
   "mimetype": "text/x-python",
   "name": "python",
   "nbconvert_exporter": "python",
   "pygments_lexer": "ipython3",
   "version": "3.9.7"
  }
 },
 "nbformat": 4,
 "nbformat_minor": 5
}
