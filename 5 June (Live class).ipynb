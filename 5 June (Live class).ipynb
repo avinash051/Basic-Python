{
 "cells": [
  {
   "cell_type": "code",
   "execution_count": 1,
   "id": "ce63c477",
   "metadata": {},
   "outputs": [],
   "source": [
    "def test(a,b):\n",
    "    '''this is my function for concatation or addition'''\n",
    "    return a+b\n"
   ]
  },
  {
   "cell_type": "code",
   "execution_count": 2,
   "id": "5d5f5372",
   "metadata": {},
   "outputs": [
    {
     "data": {
      "text/plain": [
       "79"
      ]
     },
     "execution_count": 2,
     "metadata": {},
     "output_type": "execute_result"
    }
   ],
   "source": [
    "test(34,45)"
   ]
  },
  {
   "cell_type": "code",
   "execution_count": 3,
   "id": "4bfcbbca",
   "metadata": {},
   "outputs": [
    {
     "data": {
      "text/plain": [
       "'avinashalapna'"
      ]
     },
     "execution_count": 3,
     "metadata": {},
     "output_type": "execute_result"
    }
   ],
   "source": [
    "test(\"avinash\" , \"alapna\")"
   ]
  },
  {
   "cell_type": "code",
   "execution_count": 4,
   "id": "270ed7ad",
   "metadata": {},
   "outputs": [
    {
     "data": {
      "text/plain": [
       "15"
      ]
     },
     "execution_count": 4,
     "metadata": {},
     "output_type": "execute_result"
    }
   ],
   "source": [
    "test(a =9, b=6)"
   ]
  },
  {
   "cell_type": "code",
   "execution_count": 5,
   "id": "9d8a0d6e",
   "metadata": {},
   "outputs": [
    {
     "data": {
      "text/plain": [
       "48"
      ]
     },
     "execution_count": 5,
     "metadata": {},
     "output_type": "execute_result"
    }
   ],
   "source": [
    "test(b =45, a =3)"
   ]
  },
  {
   "cell_type": "code",
   "execution_count": 6,
   "id": "0e606d65",
   "metadata": {},
   "outputs": [
    {
     "name": "stdout",
     "output_type": "stream",
     "text": [
      "\n"
     ]
    }
   ],
   "source": [
    "print()"
   ]
  },
  {
   "cell_type": "code",
   "execution_count": 7,
   "id": "f5fe40a3",
   "metadata": {},
   "outputs": [],
   "source": [
    "def test1(a,b,c,d,e):\n",
    "    return a ,b,c,d,e\n",
    "    "
   ]
  },
  {
   "cell_type": "code",
   "execution_count": 8,
   "id": "1162cac4",
   "metadata": {},
   "outputs": [
    {
     "data": {
      "text/plain": [
       "(1, 2, 3, 4, 6)"
      ]
     },
     "execution_count": 8,
     "metadata": {},
     "output_type": "execute_result"
    }
   ],
   "source": [
    "test1(1,2,3,4,6)"
   ]
  },
  {
   "cell_type": "code",
   "execution_count": 9,
   "id": "210ac62f",
   "metadata": {},
   "outputs": [],
   "source": [
    "def test(*a):\n",
    "    return a"
   ]
  },
  {
   "cell_type": "code",
   "execution_count": 10,
   "id": "7b1ba408",
   "metadata": {},
   "outputs": [
    {
     "data": {
      "text/plain": [
       "(34, 34)"
      ]
     },
     "execution_count": 10,
     "metadata": {},
     "output_type": "execute_result"
    }
   ],
   "source": [
    "test(34,34)"
   ]
  },
  {
   "cell_type": "code",
   "execution_count": 11,
   "id": "39975ff3",
   "metadata": {},
   "outputs": [
    {
     "data": {
      "text/plain": [
       "(545, 3434, 232, 34)"
      ]
     },
     "execution_count": 11,
     "metadata": {},
     "output_type": "execute_result"
    }
   ],
   "source": [
    "test(545,3434,232,34)"
   ]
  },
  {
   "cell_type": "code",
   "execution_count": 12,
   "id": "926e1b94",
   "metadata": {},
   "outputs": [],
   "source": [
    "def test4(*args):\n",
    "    return args"
   ]
  },
  {
   "cell_type": "code",
   "execution_count": 13,
   "id": "62a8b7ce",
   "metadata": {},
   "outputs": [
    {
     "data": {
      "text/plain": [
       "(34.45, 45, 34, 34)"
      ]
     },
     "execution_count": 13,
     "metadata": {},
     "output_type": "execute_result"
    }
   ],
   "source": [
    "test4(34.45,45,34,34)"
   ]
  },
  {
   "cell_type": "code",
   "execution_count": 14,
   "id": "eb808ab2",
   "metadata": {},
   "outputs": [],
   "source": [
    "def test5(*a):\n",
    "    l =[]\n",
    "    for i in a :\n",
    "        l.append(i)\n",
    "    return l    \n",
    "        "
   ]
  },
  {
   "cell_type": "code",
   "execution_count": 15,
   "id": "fc55860f",
   "metadata": {},
   "outputs": [
    {
     "data": {
      "text/plain": [
       "[34, 45, 34, 23, 13, 34, 45]"
      ]
     },
     "execution_count": 15,
     "metadata": {},
     "output_type": "execute_result"
    }
   ],
   "source": [
    "test5(34,45,34,23,13,34,45)"
   ]
  },
  {
   "cell_type": "code",
   "execution_count": 16,
   "id": "ea10ee82",
   "metadata": {},
   "outputs": [],
   "source": [
    "def test6(a,b,c,d, *m):\n",
    "    return a,b,c,d,m"
   ]
  },
  {
   "cell_type": "code",
   "execution_count": 17,
   "id": "235d8556",
   "metadata": {},
   "outputs": [
    {
     "data": {
      "text/plain": [
       "(34, 34, 23, 3535, (343, 24, 23, 23, 45, 34))"
      ]
     },
     "execution_count": 17,
     "metadata": {},
     "output_type": "execute_result"
    }
   ],
   "source": [
    "test6(34,34,23,3535,343,24,23,23,45,34)"
   ]
  },
  {
   "cell_type": "code",
   "execution_count": 18,
   "id": "3f7800b7",
   "metadata": {},
   "outputs": [],
   "source": [
    "def test7(*m, a,b,c,d,e):\n",
    "    return m, a,b,c,d,e"
   ]
  },
  {
   "cell_type": "code",
   "execution_count": 19,
   "id": "eacb80f3",
   "metadata": {},
   "outputs": [
    {
     "data": {
      "text/plain": [
       "((45, 3, 5), 7, 5, 34, 23, 2)"
      ]
     },
     "execution_count": 19,
     "metadata": {},
     "output_type": "execute_result"
    }
   ],
   "source": [
    "test7(45,3,5,a =7,b=5,c =34,d =23,e =2)"
   ]
  },
  {
   "cell_type": "code",
   "execution_count": 20,
   "id": "60c109a3",
   "metadata": {},
   "outputs": [],
   "source": [
    "def test8(**avin):\n",
    "    return avin"
   ]
  },
  {
   "cell_type": "code",
   "execution_count": 21,
   "id": "1c6d863c",
   "metadata": {},
   "outputs": [
    {
     "data": {
      "text/plain": [
       "{'a': 2, 'b': 3, 'c': 4, 'n': [34, 23, 23, 34]}"
      ]
     },
     "execution_count": 21,
     "metadata": {},
     "output_type": "execute_result"
    }
   ],
   "source": [
    "test8(a =2,b= 3,c =4, n =[34,23,23,34])"
   ]
  },
  {
   "cell_type": "code",
   "execution_count": 22,
   "id": "43a951e8",
   "metadata": {},
   "outputs": [],
   "source": [
    "def test9(*m,**s):\n",
    "    \"\"\"this is single args and dictionary form args\"\"\"\n",
    "    return m,s"
   ]
  },
  {
   "cell_type": "code",
   "execution_count": 23,
   "id": "7041a0a7",
   "metadata": {},
   "outputs": [
    {
     "data": {
      "text/plain": [
       "((34, 34, 23, 34, 34), {'b': 4, 'c': 5, 'r': 5})"
      ]
     },
     "execution_count": 23,
     "metadata": {},
     "output_type": "execute_result"
    }
   ],
   "source": [
    "test9(34,34,23,34,34,b = 4,c=5,r =5)"
   ]
  },
  {
   "cell_type": "code",
   "execution_count": 24,
   "id": "136b96fc",
   "metadata": {},
   "outputs": [],
   "source": [
    "def test10(*m):\n",
    "    n =1\n",
    "    for i in m:\n",
    "        if type(i) == int:\n",
    "            n = n*i\n",
    "    return n      \n",
    "            "
   ]
  },
  {
   "cell_type": "code",
   "execution_count": 25,
   "id": "734d43f0",
   "metadata": {},
   "outputs": [
    {
     "data": {
      "text/plain": [
       "18768"
      ]
     },
     "execution_count": 25,
     "metadata": {},
     "output_type": "execute_result"
    }
   ],
   "source": [
    "test10(2,34,23,12)"
   ]
  },
  {
   "cell_type": "code",
   "execution_count": 26,
   "id": "0604d88e",
   "metadata": {},
   "outputs": [],
   "source": [
    "n = lambda a,b : a +b"
   ]
  },
  {
   "cell_type": "code",
   "execution_count": 27,
   "id": "23de7fbf",
   "metadata": {},
   "outputs": [
    {
     "data": {
      "text/plain": [
       "9"
      ]
     },
     "execution_count": 27,
     "metadata": {},
     "output_type": "execute_result"
    }
   ],
   "source": [
    "n(4,5)"
   ]
  },
  {
   "cell_type": "code",
   "execution_count": 28,
   "id": "0f67fb7f",
   "metadata": {},
   "outputs": [],
   "source": [
    "def test5(a,b):\n",
    "    return a+b"
   ]
  },
  {
   "cell_type": "code",
   "execution_count": 29,
   "id": "ce0f7f5d",
   "metadata": {},
   "outputs": [
    {
     "data": {
      "text/plain": [
       "9"
      ]
     },
     "execution_count": 29,
     "metadata": {},
     "output_type": "execute_result"
    }
   ],
   "source": [
    "test5(4,5)"
   ]
  },
  {
   "cell_type": "code",
   "execution_count": 30,
   "id": "cd1f6489",
   "metadata": {},
   "outputs": [],
   "source": [
    "b=  lambda *sudh : sudh"
   ]
  },
  {
   "cell_type": "code",
   "execution_count": 31,
   "id": "c5667e0a",
   "metadata": {},
   "outputs": [
    {
     "data": {
      "text/plain": [
       "(45, 45, 34, 23, 123, 23)"
      ]
     },
     "execution_count": 31,
     "metadata": {},
     "output_type": "execute_result"
    }
   ],
   "source": [
    "b(45,45,34,23,123,23)"
   ]
  },
  {
   "cell_type": "code",
   "execution_count": 32,
   "id": "9e842443",
   "metadata": {},
   "outputs": [],
   "source": [
    "t =  (3,4,4,55,6,67,7,7,7)"
   ]
  },
  {
   "cell_type": "code",
   "execution_count": 33,
   "id": "bac30c28",
   "metadata": {},
   "outputs": [],
   "source": [
    "l = []\n",
    "for i in t:\n",
    "    l.append(i)"
   ]
  },
  {
   "cell_type": "code",
   "execution_count": 34,
   "id": "b8af3915",
   "metadata": {},
   "outputs": [
    {
     "data": {
      "text/plain": [
       "[3, 4, 4, 55, 6, 67, 7, 7, 7]"
      ]
     },
     "execution_count": 34,
     "metadata": {},
     "output_type": "execute_result"
    }
   ],
   "source": [
    "l"
   ]
  },
  {
   "cell_type": "code",
   "execution_count": 35,
   "id": "990f12ee",
   "metadata": {},
   "outputs": [],
   "source": [
    "#comprehension operation"
   ]
  },
  {
   "cell_type": "code",
   "execution_count": 36,
   "id": "18ab62c0",
   "metadata": {},
   "outputs": [
    {
     "data": {
      "text/plain": [
       "[3, 4, 4, 55, 6, 67, 7, 7, 7]"
      ]
     },
     "execution_count": 36,
     "metadata": {},
     "output_type": "execute_result"
    }
   ],
   "source": [
    "[i for i in t]"
   ]
  },
  {
   "cell_type": "code",
   "execution_count": 37,
   "id": "4161a61c",
   "metadata": {},
   "outputs": [],
   "source": [
    "s = \"sudh\""
   ]
  },
  {
   "cell_type": "code",
   "execution_count": 38,
   "id": "e8587509",
   "metadata": {},
   "outputs": [
    {
     "data": {
      "text/plain": [
       "['s', 'u', 'd', 'h']"
      ]
     },
     "execution_count": 38,
     "metadata": {},
     "output_type": "execute_result"
    }
   ],
   "source": [
    "[i for i in s]"
   ]
  },
  {
   "cell_type": "code",
   "execution_count": 39,
   "id": "87dff185",
   "metadata": {},
   "outputs": [
    {
     "data": {
      "text/plain": [
       "[0, 1, 4, 9, 16, 25, 36, 49, 64, 81]"
      ]
     },
     "execution_count": 39,
     "metadata": {},
     "output_type": "execute_result"
    }
   ],
   "source": [
    "[i*i for i in range(10)]"
   ]
  },
  {
   "cell_type": "code",
   "execution_count": 40,
   "id": "f7f96958",
   "metadata": {},
   "outputs": [],
   "source": [
    "l=[]\n",
    "for i in range(10):\n",
    "    l.append(i*i)"
   ]
  },
  {
   "cell_type": "code",
   "execution_count": 41,
   "id": "20c3c3e8",
   "metadata": {},
   "outputs": [
    {
     "data": {
      "text/plain": [
       "[0, 1, 4, 9, 16, 25, 36, 49, 64, 81]"
      ]
     },
     "execution_count": 41,
     "metadata": {},
     "output_type": "execute_result"
    }
   ],
   "source": [
    "l"
   ]
  },
  {
   "cell_type": "code",
   "execution_count": 42,
   "id": "6b91739a",
   "metadata": {},
   "outputs": [],
   "source": [
    "l = lambda *x : [i**2 for i in x]"
   ]
  },
  {
   "cell_type": "code",
   "execution_count": 43,
   "id": "888b6839",
   "metadata": {},
   "outputs": [
    {
     "data": {
      "text/plain": [
       "[16, 529, 16, 1156, 529]"
      ]
     },
     "execution_count": 43,
     "metadata": {},
     "output_type": "execute_result"
    }
   ],
   "source": [
    "l (4,23,4,34,23)"
   ]
  },
  {
   "cell_type": "code",
   "execution_count": 44,
   "id": "099ab3c2",
   "metadata": {},
   "outputs": [
    {
     "ename": "NameError",
     "evalue": "name 'test14' is not defined",
     "output_type": "error",
     "traceback": [
      "\u001b[0;31m---------------------------------------------------------------------------\u001b[0m",
      "\u001b[0;31mNameError\u001b[0m                                 Traceback (most recent call last)",
      "\u001b[0;32m/var/folders/hs/tkrh5wv51hl9c769tvsw6bc00000gn/T/ipykernel_2172/2373166845.py\u001b[0m in \u001b[0;36m<module>\u001b[0;34m\u001b[0m\n\u001b[0;32m----> 1\u001b[0;31m \u001b[0mtest14\u001b[0m\u001b[0;34m(\u001b[0m\u001b[0ma\u001b[0m \u001b[0;34m=\u001b[0m\u001b[0;36m7\u001b[0m\u001b[0;34m,\u001b[0m \u001b[0mb\u001b[0m\u001b[0;34m=\u001b[0m \u001b[0;34m\"sudh\"\u001b[0m\u001b[0;34m,\u001b[0m \u001b[0mc\u001b[0m\u001b[0;34m=\u001b[0m\u001b[0;36m342\u001b[0m\u001b[0;34m,\u001b[0m \u001b[0md\u001b[0m \u001b[0;34m=\u001b[0m \u001b[0;34m\"sudh\"\u001b[0m\u001b[0;34m,\u001b[0m \u001b[0ml\u001b[0m \u001b[0;34m=\u001b[0m\u001b[0;34m[\u001b[0m\u001b[0;36m2\u001b[0m\u001b[0;34m,\u001b[0m\u001b[0;36m3\u001b[0m\u001b[0;34m,\u001b[0m\u001b[0;36m4\u001b[0m\u001b[0;34m,\u001b[0m\u001b[0;36m5\u001b[0m\u001b[0;34m,\u001b[0m\u001b[0;36m45\u001b[0m\u001b[0;34m,\u001b[0m\u001b[0;34m\"sudh\"\u001b[0m\u001b[0;34m]\u001b[0m\u001b[0;34m)\u001b[0m\u001b[0;34m\u001b[0m\u001b[0;34m\u001b[0m\u001b[0m\n\u001b[0m",
      "\u001b[0;31mNameError\u001b[0m: name 'test14' is not defined"
     ]
    }
   ],
   "source": [
    "test14(a =7, b= \"sudh\", c=342, d = \"sudh\", l =[2,3,4,5,45,\"sudh\"])"
   ]
  },
  {
   "cell_type": "code",
   "execution_count": null,
   "id": "65e93bcd",
   "metadata": {},
   "outputs": [],
   "source": [
    "def test14(**args):\n",
    "    count = 0\n",
    "    for v in args.values():\n",
    "        if type(v) == str or type(v)==list:\n",
    "            count+= 1\n",
    "    return count        "
   ]
  },
  {
   "cell_type": "code",
   "execution_count": null,
   "id": "1e7f1137",
   "metadata": {},
   "outputs": [],
   "source": []
  },
  {
   "cell_type": "code",
   "execution_count": null,
   "id": "9843a898",
   "metadata": {},
   "outputs": [],
   "source": [
    "test14(a =7, b= \"sudh\", c=342, d = \"sudh\", l =[2,3,4,5,45,\"sudh\"])"
   ]
  },
  {
   "cell_type": "code",
   "execution_count": null,
   "id": "85cb57e3",
   "metadata": {},
   "outputs": [],
   "source": []
  },
  {
   "cell_type": "code",
   "execution_count": null,
   "id": "0f8f90f6",
   "metadata": {},
   "outputs": [],
   "source": []
  },
  {
   "cell_type": "code",
   "execution_count": null,
   "id": "19366fea",
   "metadata": {},
   "outputs": [],
   "source": []
  },
  {
   "cell_type": "code",
   "execution_count": null,
   "id": "6e8d3837",
   "metadata": {},
   "outputs": [],
   "source": []
  },
  {
   "cell_type": "code",
   "execution_count": null,
   "id": "cc25e4e9",
   "metadata": {},
   "outputs": [],
   "source": []
  },
  {
   "cell_type": "code",
   "execution_count": null,
   "id": "710ca758",
   "metadata": {},
   "outputs": [],
   "source": []
  }
 ],
 "metadata": {
  "kernelspec": {
   "display_name": "Python 3 (ipykernel)",
   "language": "python",
   "name": "python3"
  },
  "language_info": {
   "codemirror_mode": {
    "name": "ipython",
    "version": 3
   },
   "file_extension": ".py",
   "mimetype": "text/x-python",
   "name": "python",
   "nbconvert_exporter": "python",
   "pygments_lexer": "ipython3",
   "version": "3.9.7"
  }
 },
 "nbformat": 4,
 "nbformat_minor": 5
}
