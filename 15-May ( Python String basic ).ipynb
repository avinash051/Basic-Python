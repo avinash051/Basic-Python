{
 "cells": [
  {
   "cell_type": "code",
   "execution_count": 1,
   "id": "436f8d44",
   "metadata": {},
   "outputs": [],
   "source": [
    "s = \"ineuron\""
   ]
  },
  {
   "cell_type": "code",
   "execution_count": 2,
   "id": "d48c3ddf",
   "metadata": {},
   "outputs": [
    {
     "data": {
      "text/plain": [
       "str"
      ]
     },
     "execution_count": 2,
     "metadata": {},
     "output_type": "execute_result"
    }
   ],
   "source": [
    "type(s)"
   ]
  },
  {
   "cell_type": "code",
   "execution_count": 3,
   "id": "e2485ea4",
   "metadata": {},
   "outputs": [
    {
     "data": {
      "text/plain": [
       "'n'"
      ]
     },
     "execution_count": 3,
     "metadata": {},
     "output_type": "execute_result"
    }
   ],
   "source": [
    "s[1]"
   ]
  },
  {
   "cell_type": "code",
   "execution_count": 4,
   "id": "b306a11d",
   "metadata": {},
   "outputs": [
    {
     "data": {
      "text/plain": [
       "'e'"
      ]
     },
     "execution_count": 4,
     "metadata": {},
     "output_type": "execute_result"
    }
   ],
   "source": [
    "s[-5]"
   ]
  },
  {
   "cell_type": "code",
   "execution_count": 5,
   "id": "df807b51",
   "metadata": {},
   "outputs": [],
   "source": [
    "s1 = 'avin'"
   ]
  },
  {
   "cell_type": "code",
   "execution_count": 6,
   "id": "587d184f",
   "metadata": {},
   "outputs": [
    {
     "data": {
      "text/plain": [
       "'a'"
      ]
     },
     "execution_count": 6,
     "metadata": {},
     "output_type": "execute_result"
    }
   ],
   "source": [
    "s1[0]"
   ]
  },
  {
   "cell_type": "code",
   "execution_count": 7,
   "id": "ddcb9755",
   "metadata": {},
   "outputs": [
    {
     "data": {
      "text/plain": [
       "'n'"
      ]
     },
     "execution_count": 7,
     "metadata": {},
     "output_type": "execute_result"
    }
   ],
   "source": [
    "s1[-1]"
   ]
  },
  {
   "cell_type": "code",
   "execution_count": 8,
   "id": "8a92711b",
   "metadata": {},
   "outputs": [
    {
     "data": {
      "text/plain": [
       "'i'"
      ]
     },
     "execution_count": 8,
     "metadata": {},
     "output_type": "execute_result"
    }
   ],
   "source": [
    "s1[-2]"
   ]
  },
  {
   "cell_type": "code",
   "execution_count": 9,
   "id": "0fa7f1ec",
   "metadata": {},
   "outputs": [],
   "source": [
    "s2 = \"class's name eight\""
   ]
  },
  {
   "cell_type": "code",
   "execution_count": 10,
   "id": "851c13ab",
   "metadata": {},
   "outputs": [
    {
     "data": {
      "text/plain": [
       "\"class's name eight\""
      ]
     },
     "execution_count": 10,
     "metadata": {},
     "output_type": "execute_result"
    }
   ],
   "source": [
    "s2"
   ]
  },
  {
   "cell_type": "code",
   "execution_count": 11,
   "id": "f0df579f",
   "metadata": {},
   "outputs": [
    {
     "data": {
      "text/plain": [
       "'s'"
      ]
     },
     "execution_count": 11,
     "metadata": {},
     "output_type": "execute_result"
    }
   ],
   "source": [
    "s2[4]"
   ]
  },
  {
   "cell_type": "code",
   "execution_count": 12,
   "id": "4bd15989",
   "metadata": {},
   "outputs": [
    {
     "data": {
      "text/plain": [
       "\"class's name \""
      ]
     },
     "execution_count": 12,
     "metadata": {},
     "output_type": "execute_result"
    }
   ],
   "source": [
    "s2[0:-5]"
   ]
  },
  {
   "cell_type": "code",
   "execution_count": 13,
   "id": "a052c0c5",
   "metadata": {},
   "outputs": [
    {
     "data": {
      "text/plain": [
       "'s'"
      ]
     },
     "execution_count": 13,
     "metadata": {},
     "output_type": "execute_result"
    }
   ],
   "source": [
    "s2[3]"
   ]
  },
  {
   "cell_type": "code",
   "execution_count": 14,
   "id": "30141af0",
   "metadata": {},
   "outputs": [
    {
     "data": {
      "text/plain": [
       "\"class's name eight\""
      ]
     },
     "execution_count": 14,
     "metadata": {},
     "output_type": "execute_result"
    }
   ],
   "source": [
    "s2"
   ]
  },
  {
   "cell_type": "code",
   "execution_count": 15,
   "id": "a6249744",
   "metadata": {},
   "outputs": [],
   "source": [
    "s2 = \"this is my very first programming class's\""
   ]
  },
  {
   "cell_type": "code",
   "execution_count": 16,
   "id": "5d268fc9",
   "metadata": {},
   "outputs": [
    {
     "data": {
      "text/plain": [
       "\"this is my very first programming class's\""
      ]
     },
     "execution_count": 16,
     "metadata": {},
     "output_type": "execute_result"
    }
   ],
   "source": [
    "s2"
   ]
  },
  {
   "cell_type": "code",
   "execution_count": 17,
   "id": "fff62c56",
   "metadata": {},
   "outputs": [
    {
     "data": {
      "text/plain": [
       "'s my very first programm'"
      ]
     },
     "execution_count": 17,
     "metadata": {},
     "output_type": "execute_result"
    }
   ],
   "source": [
    "s2[6:30]"
   ]
  },
  {
   "cell_type": "code",
   "execution_count": 18,
   "id": "58731dd1",
   "metadata": {},
   "outputs": [
    {
     "data": {
      "text/plain": [
       "'i sm eyfrtporm'"
      ]
     },
     "execution_count": 18,
     "metadata": {},
     "output_type": "execute_result"
    }
   ],
   "source": [
    "s2[2:30:2]"
   ]
  },
  {
   "cell_type": "code",
   "execution_count": 19,
   "id": "3fc24847",
   "metadata": {},
   "outputs": [],
   "source": [
    "s = \"sudhansu\""
   ]
  },
  {
   "cell_type": "code",
   "execution_count": 20,
   "id": "c9db021e",
   "metadata": {},
   "outputs": [
    {
     "data": {
      "text/plain": [
       "'sdas'"
      ]
     },
     "execution_count": 20,
     "metadata": {},
     "output_type": "execute_result"
    }
   ],
   "source": [
    "s[0:9:2]"
   ]
  },
  {
   "cell_type": "markdown",
   "id": "3096f591",
   "metadata": {},
   "source": [
    "due to -ve and +ve contradiction"
   ]
  },
  {
   "cell_type": "code",
   "execution_count": 21,
   "id": "1a6362c1",
   "metadata": {},
   "outputs": [
    {
     "data": {
      "text/plain": [
       "''"
      ]
     },
     "execution_count": 21,
     "metadata": {},
     "output_type": "execute_result"
    }
   ],
   "source": [
    "s[0:8:-1 ]"
   ]
  },
  {
   "cell_type": "code",
   "execution_count": 22,
   "id": "02eaf812",
   "metadata": {},
   "outputs": [
    {
     "data": {
      "text/plain": [
       "'sudhansu'"
      ]
     },
     "execution_count": 22,
     "metadata": {},
     "output_type": "execute_result"
    }
   ],
   "source": [
    "s"
   ]
  },
  {
   "cell_type": "code",
   "execution_count": 23,
   "id": "c7614526",
   "metadata": {},
   "outputs": [
    {
     "data": {
      "text/plain": [
       "'usnahdu'"
      ]
     },
     "execution_count": 23,
     "metadata": {},
     "output_type": "execute_result"
    }
   ],
   "source": [
    "s[8:0:-1]"
   ]
  },
  {
   "cell_type": "code",
   "execution_count": 24,
   "id": "101d4316",
   "metadata": {},
   "outputs": [
    {
     "data": {
      "text/plain": [
       "'sudhansu'"
      ]
     },
     "execution_count": 24,
     "metadata": {},
     "output_type": "execute_result"
    }
   ],
   "source": [
    "s"
   ]
  },
  {
   "cell_type": "code",
   "execution_count": 25,
   "id": "8a8a17df",
   "metadata": {},
   "outputs": [
    {
     "data": {
      "text/plain": [
       "'sudha'"
      ]
     },
     "execution_count": 25,
     "metadata": {},
     "output_type": "execute_result"
    }
   ],
   "source": [
    "s[:-3]"
   ]
  },
  {
   "cell_type": "code",
   "execution_count": 26,
   "id": "6dff5359",
   "metadata": {},
   "outputs": [],
   "source": [
    "st = \"sudhanshu\""
   ]
  },
  {
   "cell_type": "code",
   "execution_count": 27,
   "id": "2ac073f0",
   "metadata": {},
   "outputs": [
    {
     "data": {
      "text/plain": [
       "'sudhan'"
      ]
     },
     "execution_count": 27,
     "metadata": {},
     "output_type": "execute_result"
    }
   ],
   "source": [
    "st[:-3]"
   ]
  },
  {
   "cell_type": "code",
   "execution_count": 28,
   "id": "87d152de",
   "metadata": {},
   "outputs": [
    {
     "data": {
      "text/plain": [
       "'hu'"
      ]
     },
     "execution_count": 28,
     "metadata": {},
     "output_type": "execute_result"
    }
   ],
   "source": [
    "st[-2:]"
   ]
  },
  {
   "cell_type": "code",
   "execution_count": 29,
   "id": "90679ffc",
   "metadata": {},
   "outputs": [
    {
     "data": {
      "text/plain": [
       "'sudhanshu'"
      ]
     },
     "execution_count": 29,
     "metadata": {},
     "output_type": "execute_result"
    }
   ],
   "source": [
    "st[::1]"
   ]
  },
  {
   "cell_type": "code",
   "execution_count": 30,
   "id": "4b3ade21",
   "metadata": {},
   "outputs": [
    {
     "data": {
      "text/plain": [
       "'sudhanshu'"
      ]
     },
     "execution_count": 30,
     "metadata": {},
     "output_type": "execute_result"
    }
   ],
   "source": [
    "st[0:46:1]"
   ]
  },
  {
   "cell_type": "code",
   "execution_count": 31,
   "id": "65419a31",
   "metadata": {},
   "outputs": [
    {
     "data": {
      "text/plain": [
       "'uhsnahdus'"
      ]
     },
     "execution_count": 31,
     "metadata": {},
     "output_type": "execute_result"
    }
   ],
   "source": [
    "st[::-1]"
   ]
  },
  {
   "cell_type": "code",
   "execution_count": 32,
   "id": "6b238a81",
   "metadata": {},
   "outputs": [
    {
     "data": {
      "text/plain": [
       "'sudhansh'"
      ]
     },
     "execution_count": 32,
     "metadata": {},
     "output_type": "execute_result"
    }
   ],
   "source": [
    "st[:-1]"
   ]
  },
  {
   "cell_type": "code",
   "execution_count": 33,
   "id": "7913d6e4",
   "metadata": {},
   "outputs": [],
   "source": [
    "s3 = \"ineuron\""
   ]
  },
  {
   "cell_type": "code",
   "execution_count": 34,
   "id": "a3b05b85",
   "metadata": {},
   "outputs": [
    {
     "data": {
      "text/plain": [
       "'norueni'"
      ]
     },
     "execution_count": 34,
     "metadata": {},
     "output_type": "execute_result"
    }
   ],
   "source": [
    "s3[::-1]"
   ]
  },
  {
   "cell_type": "code",
   "execution_count": 35,
   "id": "06681acc",
   "metadata": {},
   "outputs": [
    {
     "data": {
      "text/plain": [
       "''"
      ]
     },
     "execution_count": 35,
     "metadata": {},
     "output_type": "execute_result"
    }
   ],
   "source": [
    "s3[-2:-7:1]"
   ]
  },
  {
   "cell_type": "code",
   "execution_count": 36,
   "id": "40d89ca4",
   "metadata": {},
   "outputs": [
    {
     "data": {
      "text/plain": [
       "'ineur'"
      ]
     },
     "execution_count": 36,
     "metadata": {},
     "output_type": "execute_result"
    }
   ],
   "source": [
    "s3[-7:-2:1]"
   ]
  },
  {
   "cell_type": "code",
   "execution_count": 37,
   "id": "5bb46ecd",
   "metadata": {},
   "outputs": [
    {
     "data": {
      "text/plain": [
       "''"
      ]
     },
     "execution_count": 37,
     "metadata": {},
     "output_type": "execute_result"
    }
   ],
   "source": [
    "s3[5:0]"
   ]
  },
  {
   "cell_type": "code",
   "execution_count": 38,
   "id": "ba9274ac",
   "metadata": {},
   "outputs": [
    {
     "data": {
      "text/plain": [
       "'sudhansu'"
      ]
     },
     "execution_count": 38,
     "metadata": {},
     "output_type": "execute_result"
    }
   ],
   "source": [
    "s\n"
   ]
  },
  {
   "cell_type": "code",
   "execution_count": 39,
   "id": "f3d82ee9",
   "metadata": {},
   "outputs": [
    {
     "data": {
      "text/plain": [
       "''"
      ]
     },
     "execution_count": 39,
     "metadata": {},
     "output_type": "execute_result"
    }
   ],
   "source": [
    "s3[-7:0:1]"
   ]
  },
  {
   "cell_type": "code",
   "execution_count": 40,
   "id": "9a2a715c",
   "metadata": {},
   "outputs": [
    {
     "data": {
      "text/plain": [
       "'ineuron1'"
      ]
     },
     "execution_count": 40,
     "metadata": {},
     "output_type": "execute_result"
    }
   ],
   "source": [
    "s3+\"1\""
   ]
  },
  {
   "cell_type": "markdown",
   "id": "7870afa6",
   "metadata": {},
   "source": [
    "typecasting"
   ]
  },
  {
   "cell_type": "code",
   "execution_count": 41,
   "id": "b691f78d",
   "metadata": {},
   "outputs": [
    {
     "data": {
      "text/plain": [
       "'ineuron1'"
      ]
     },
     "execution_count": 41,
     "metadata": {},
     "output_type": "execute_result"
    }
   ],
   "source": [
    "s3+str(1)"
   ]
  },
  {
   "cell_type": "code",
   "execution_count": 42,
   "id": "f5b10b86",
   "metadata": {},
   "outputs": [
    {
     "data": {
      "text/plain": [
       "7"
      ]
     },
     "execution_count": 42,
     "metadata": {},
     "output_type": "execute_result"
    }
   ],
   "source": [
    "len(s3)"
   ]
  },
  {
   "cell_type": "code",
   "execution_count": 43,
   "id": "08d5b4d1",
   "metadata": {},
   "outputs": [
    {
     "data": {
      "text/plain": [
       "'ineuron'"
      ]
     },
     "execution_count": 43,
     "metadata": {},
     "output_type": "execute_result"
    }
   ],
   "source": [
    "s3\n"
   ]
  },
  {
   "cell_type": "code",
   "execution_count": 44,
   "id": "368e7472",
   "metadata": {},
   "outputs": [
    {
     "data": {
      "text/plain": [
       "'ineuron'"
      ]
     },
     "execution_count": 44,
     "metadata": {},
     "output_type": "execute_result"
    }
   ],
   "source": [
    "s3*2\n",
    "s3"
   ]
  },
  {
   "cell_type": "code",
   "execution_count": 45,
   "id": "7e6cb4e3",
   "metadata": {},
   "outputs": [
    {
     "data": {
      "text/plain": [
       "0"
      ]
     },
     "execution_count": 45,
     "metadata": {},
     "output_type": "execute_result"
    }
   ],
   "source": [
    "s3.count(s)"
   ]
  },
  {
   "cell_type": "code",
   "execution_count": 78,
   "id": "8dd6d9a2",
   "metadata": {},
   "outputs": [],
   "source": [
    "i = \"dfdjfkdjfkdjfdfjkjks\""
   ]
  },
  {
   "cell_type": "code",
   "execution_count": 79,
   "id": "18e84428",
   "metadata": {},
   "outputs": [
    {
     "data": {
      "text/plain": [
       "5"
      ]
     },
     "execution_count": 79,
     "metadata": {},
     "output_type": "execute_result"
    }
   ],
   "source": [
    "i.count('d')"
   ]
  },
  {
   "cell_type": "code",
   "execution_count": 48,
   "id": "9b4ae7a7",
   "metadata": {},
   "outputs": [],
   "source": [
    "n = \"avinash\""
   ]
  },
  {
   "cell_type": "code",
   "execution_count": 190,
   "id": "97d9ca32",
   "metadata": {},
   "outputs": [
    {
     "data": {
      "text/plain": [
       "['avinash']"
      ]
     },
     "execution_count": 190,
     "metadata": {},
     "output_type": "execute_result"
    }
   ],
   "source": [
    "n.split(\" \")"
   ]
  },
  {
   "cell_type": "code",
   "execution_count": 59,
   "id": "7af9e93b",
   "metadata": {},
   "outputs": [],
   "source": [
    "l = 'shsf hdjhfa hajhdfja hajdhfa wjehwe'"
   ]
  },
  {
   "cell_type": "code",
   "execution_count": 61,
   "id": "c44ed1d5",
   "metadata": {},
   "outputs": [
    {
     "data": {
      "text/plain": [
       "['s', 'sf ', 'dj', 'fa ', 'aj', 'dfja ', 'ajd', 'fa wje', 'we']"
      ]
     },
     "execution_count": 61,
     "metadata": {},
     "output_type": "execute_result"
    }
   ],
   "source": [
    "l.split('h')"
   ]
  },
  {
   "cell_type": "code",
   "execution_count": 62,
   "id": "577dc041",
   "metadata": {},
   "outputs": [
    {
     "data": {
      "text/plain": [
       "'shsf hdjhfa hajhdfja hajdhfa wjehwe'"
      ]
     },
     "execution_count": 62,
     "metadata": {},
     "output_type": "execute_result"
    }
   ],
   "source": [
    "l"
   ]
  },
  {
   "cell_type": "code",
   "execution_count": 65,
   "id": "9ade30fe",
   "metadata": {},
   "outputs": [
    {
     "data": {
      "text/plain": [
       "['shsf', 'hdjhfa', 'hajhdfja', 'hajdhfa', 'wjehwe']"
      ]
     },
     "execution_count": 65,
     "metadata": {},
     "output_type": "execute_result"
    }
   ],
   "source": [
    "l.split(' ')"
   ]
  },
  {
   "cell_type": "code",
   "execution_count": 67,
   "id": "154f077c",
   "metadata": {},
   "outputs": [],
   "source": [
    "sen = \"\"\"o all our readers in India,\n",
    "Please don't scroll past this. This Wednesday, we request you to sustain Wikipedia's independence. 98% of our readers don't donate; they simply keep reading. If you are an exceptional reader who has already donated, we sincerely thank you. \"\"\""
   ]
  },
  {
   "cell_type": "code",
   "execution_count": 68,
   "id": "f9f28fcd",
   "metadata": {},
   "outputs": [
    {
     "data": {
      "text/plain": [
       "\"o all our readers in India,\\nPlease don't scroll past this. This Wednesday, we request you to sustain Wikipedia's independence. 98% of our readers don't donate; they simply keep reading. If you are an exceptional reader who has already donated, we sincerely thank you. \""
      ]
     },
     "execution_count": 68,
     "metadata": {},
     "output_type": "execute_result"
    }
   ],
   "source": [
    "sen\n"
   ]
  },
  {
   "cell_type": "code",
   "execution_count": 69,
   "id": "f46be761",
   "metadata": {},
   "outputs": [
    {
     "data": {
      "text/plain": [
       "['o',\n",
       " 'all',\n",
       " 'our',\n",
       " 'readers',\n",
       " 'in',\n",
       " 'India,\\nPlease',\n",
       " \"don't\",\n",
       " 'scroll',\n",
       " 'past',\n",
       " 'this.',\n",
       " 'This',\n",
       " 'Wednesday,',\n",
       " 'we',\n",
       " 'request',\n",
       " 'you',\n",
       " 'to',\n",
       " 'sustain',\n",
       " \"Wikipedia's\",\n",
       " 'independence.',\n",
       " '98%',\n",
       " 'of',\n",
       " 'our',\n",
       " 'readers',\n",
       " \"don't\",\n",
       " 'donate;',\n",
       " 'they',\n",
       " 'simply',\n",
       " 'keep',\n",
       " 'reading.',\n",
       " 'If',\n",
       " 'you',\n",
       " 'are',\n",
       " 'an',\n",
       " 'exceptional',\n",
       " 'reader',\n",
       " 'who',\n",
       " 'has',\n",
       " 'already',\n",
       " 'donated,',\n",
       " 'we',\n",
       " 'sincerely',\n",
       " 'thank',\n",
       " 'you.',\n",
       " '']"
      ]
     },
     "execution_count": 69,
     "metadata": {},
     "output_type": "execute_result"
    }
   ],
   "source": [
    "sen.split(' ')"
   ]
  },
  {
   "cell_type": "code",
   "execution_count": 70,
   "id": "f2e17a98",
   "metadata": {},
   "outputs": [
    {
     "data": {
      "text/plain": [
       "\"O ALL OUR READERS IN INDIA,\\nPLEASE DON'T SCROLL PAST THIS. THIS WEDNESDAY, WE REQUEST YOU TO SUSTAIN WIKIPEDIA'S INDEPENDENCE. 98% OF OUR READERS DON'T DONATE; THEY SIMPLY KEEP READING. IF YOU ARE AN EXCEPTIONAL READER WHO HAS ALREADY DONATED, WE SINCERELY THANK YOU. \""
      ]
     },
     "execution_count": 70,
     "metadata": {},
     "output_type": "execute_result"
    }
   ],
   "source": [
    "sen.upper()"
   ]
  },
  {
   "cell_type": "code",
   "execution_count": 71,
   "id": "fb50a924",
   "metadata": {},
   "outputs": [
    {
     "data": {
      "text/plain": [
       "\"o all our readers in india,\\nplease don't scroll past this. this wednesday, we request you to sustain wikipedia's independence. 98% of our readers don't donate; they simply keep reading. if you are an exceptional reader who has already donated, we sincerely thank you. \""
      ]
     },
     "execution_count": 71,
     "metadata": {},
     "output_type": "execute_result"
    }
   ],
   "source": [
    "sen.lower()"
   ]
  },
  {
   "cell_type": "code",
   "execution_count": 81,
   "id": "a06d5571",
   "metadata": {},
   "outputs": [],
   "source": [
    "text = \"alapanaavinash\""
   ]
  },
  {
   "cell_type": "code",
   "execution_count": 89,
   "id": "63b71ad9",
   "metadata": {},
   "outputs": [
    {
     "data": {
      "text/plain": [
       "6"
      ]
     },
     "execution_count": 89,
     "metadata": {},
     "output_type": "execute_result"
    }
   ],
   "source": [
    "text.count(\"a\")\n"
   ]
  },
  {
   "cell_type": "code",
   "execution_count": 100,
   "id": "d9aa4f27",
   "metadata": {},
   "outputs": [
    {
     "data": {
      "text/plain": [
       "['', 'l', 'p', 'n', '', 'vin', 'sh']"
      ]
     },
     "execution_count": 100,
     "metadata": {},
     "output_type": "execute_result"
    }
   ],
   "source": [
    "text.split('a')"
   ]
  },
  {
   "cell_type": "code",
   "execution_count": 94,
   "id": "13e85e96",
   "metadata": {},
   "outputs": [
    {
     "data": {
      "text/plain": [
       "'hsanivaanapala'"
      ]
     },
     "execution_count": 94,
     "metadata": {},
     "output_type": "execute_result"
    }
   ],
   "source": [
    "text[::-1]"
   ]
  },
  {
   "cell_type": "code",
   "execution_count": 99,
   "id": "40c91f26",
   "metadata": {},
   "outputs": [
    {
     "data": {
      "text/plain": [
       "'l'"
      ]
     },
     "execution_count": 99,
     "metadata": {},
     "output_type": "execute_result"
    }
   ],
   "source": [
    "text[1:3:2]"
   ]
  },
  {
   "cell_type": "code",
   "execution_count": 101,
   "id": "32260851",
   "metadata": {},
   "outputs": [
    {
     "data": {
      "text/plain": [
       "\"o all our readers in India,\\nPlease don't scroll past this. This Wednesday, we request you to sustain Wikipedia's independence. 98% of our readers don't donate; they simply keep reading. If you are an exceptional reader who has already donated, we sincerely thank you. \""
      ]
     },
     "execution_count": 101,
     "metadata": {},
     "output_type": "execute_result"
    }
   ],
   "source": [
    "sen"
   ]
  },
  {
   "cell_type": "code",
   "execution_count": 102,
   "id": "ce9f9da7",
   "metadata": {},
   "outputs": [
    {
     "data": {
      "text/plain": [
       "\"O All Our Readers In India,\\nPlease Don'T Scroll Past This. This Wednesday, We Request You To Sustain Wikipedia'S Independence. 98% Of Our Readers Don'T Donate; They Simply Keep Reading. If You Are An Exceptional Reader Who Has Already Donated, We Sincerely Thank You. \""
      ]
     },
     "execution_count": 102,
     "metadata": {},
     "output_type": "execute_result"
    }
   ],
   "source": [
    "sen.title()"
   ]
  },
  {
   "cell_type": "code",
   "execution_count": 105,
   "id": "7056eddf",
   "metadata": {},
   "outputs": [
    {
     "data": {
      "text/plain": [
       "['o',\n",
       " 'all',\n",
       " 'our',\n",
       " 'readers',\n",
       " 'in',\n",
       " 'India,\\nPlease',\n",
       " \"don't\",\n",
       " 'scroll',\n",
       " 'past',\n",
       " 'this.',\n",
       " 'This',\n",
       " 'Wednesday,',\n",
       " 'we',\n",
       " 'request',\n",
       " 'you',\n",
       " 'to',\n",
       " 'sustain',\n",
       " \"Wikipedia's\",\n",
       " 'independence.',\n",
       " '98%',\n",
       " 'of',\n",
       " 'our',\n",
       " 'readers',\n",
       " \"don't\",\n",
       " 'donate;',\n",
       " 'they',\n",
       " 'simply',\n",
       " 'keep',\n",
       " 'reading.',\n",
       " 'If',\n",
       " 'you',\n",
       " 'are',\n",
       " 'an',\n",
       " 'exceptional',\n",
       " 'reader',\n",
       " 'who',\n",
       " 'has',\n",
       " 'already',\n",
       " 'donated,',\n",
       " 'we',\n",
       " 'sincerely',\n",
       " 'thank',\n",
       " 'you.',\n",
       " '']"
      ]
     },
     "execution_count": 105,
     "metadata": {},
     "output_type": "execute_result"
    }
   ],
   "source": [
    "sen.split(' ')"
   ]
  },
  {
   "cell_type": "markdown",
   "id": "0ae1ef35",
   "metadata": {},
   "source": [
    "reassignment"
   ]
  },
  {
   "cell_type": "code",
   "execution_count": 106,
   "id": "011b6e03",
   "metadata": {},
   "outputs": [],
   "source": [
    "sen = sen.upper()"
   ]
  },
  {
   "cell_type": "code",
   "execution_count": 107,
   "id": "c3f8a3aa",
   "metadata": {},
   "outputs": [
    {
     "data": {
      "text/plain": [
       "\"O ALL OUR READERS IN INDIA,\\nPLEASE DON'T SCROLL PAST THIS. THIS WEDNESDAY, WE REQUEST YOU TO SUSTAIN WIKIPEDIA'S INDEPENDENCE. 98% OF OUR READERS DON'T DONATE; THEY SIMPLY KEEP READING. IF YOU ARE AN EXCEPTIONAL READER WHO HAS ALREADY DONATED, WE SINCERELY THANK YOU. \""
      ]
     },
     "execution_count": 107,
     "metadata": {},
     "output_type": "execute_result"
    }
   ],
   "source": [
    "sen"
   ]
  },
  {
   "cell_type": "code",
   "execution_count": 110,
   "id": "3ae3f978",
   "metadata": {},
   "outputs": [],
   "source": [
    "sen =sen.lower()"
   ]
  },
  {
   "cell_type": "code",
   "execution_count": 111,
   "id": "056786db",
   "metadata": {},
   "outputs": [
    {
     "data": {
      "text/plain": [
       "\"o all our readers in india,\\nplease don't scroll past this. this wednesday, we request you to sustain wikipedia's independence. 98% of our readers don't donate; they simply keep reading. if you are an exceptional reader who has already donated, we sincerely thank you. \""
      ]
     },
     "execution_count": 111,
     "metadata": {},
     "output_type": "execute_result"
    }
   ],
   "source": [
    "sen"
   ]
  },
  {
   "cell_type": "code",
   "execution_count": 112,
   "id": "bfc2c249",
   "metadata": {},
   "outputs": [
    {
     "data": {
      "text/plain": [
       "'sudhansu'"
      ]
     },
     "execution_count": 112,
     "metadata": {},
     "output_type": "execute_result"
    }
   ],
   "source": [
    "s"
   ]
  },
  {
   "cell_type": "code",
   "execution_count": 113,
   "id": "35275fdf",
   "metadata": {},
   "outputs": [
    {
     "data": {
      "text/plain": [
       "'Sudhansu'"
      ]
     },
     "execution_count": 113,
     "metadata": {},
     "output_type": "execute_result"
    }
   ],
   "source": [
    "s.capitalize()"
   ]
  },
  {
   "cell_type": "code",
   "execution_count": 114,
   "id": "1b20bf89",
   "metadata": {},
   "outputs": [
    {
     "name": "stdout",
     "output_type": "stream",
     "text": [
      "s\n",
      "u\n",
      "d\n",
      "h\n",
      "a\n",
      "n\n",
      "s\n",
      "u\n"
     ]
    }
   ],
   "source": [
    "for i in s:\n",
    "    print(i)"
   ]
  },
  {
   "cell_type": "code",
   "execution_count": 116,
   "id": "7938ec03",
   "metadata": {},
   "outputs": [],
   "source": [
    "s = \"Avinash KumAR\""
   ]
  },
  {
   "cell_type": "code",
   "execution_count": 117,
   "id": "b665c457",
   "metadata": {},
   "outputs": [
    {
     "data": {
      "text/plain": [
       "'aVINASH kUMar'"
      ]
     },
     "execution_count": 117,
     "metadata": {},
     "output_type": "execute_result"
    }
   ],
   "source": [
    "s.swapcase()"
   ]
  },
  {
   "cell_type": "code",
   "execution_count": 119,
   "id": "2df89dcd",
   "metadata": {},
   "outputs": [
    {
     "data": {
      "text/plain": [
       "'RAmuK hsanivA'"
      ]
     },
     "execution_count": 119,
     "metadata": {},
     "output_type": "execute_result"
    }
   ],
   "source": [
    "''.join(reversed(s))"
   ]
  },
  {
   "cell_type": "code",
   "execution_count": 123,
   "id": "8029feea",
   "metadata": {},
   "outputs": [],
   "source": [
    "s = \"    su   dh \""
   ]
  },
  {
   "cell_type": "code",
   "execution_count": 124,
   "id": "d92dea82",
   "metadata": {},
   "outputs": [
    {
     "data": {
      "text/plain": [
       "'su   dh'"
      ]
     },
     "execution_count": 124,
     "metadata": {},
     "output_type": "execute_result"
    }
   ],
   "source": [
    "s.strip()"
   ]
  },
  {
   "cell_type": "code",
   "execution_count": 125,
   "id": "ddbfe8c4",
   "metadata": {},
   "outputs": [
    {
     "data": {
      "text/plain": [
       "'    su   dh '"
      ]
     },
     "execution_count": 125,
     "metadata": {},
     "output_type": "execute_result"
    }
   ],
   "source": [
    "s\n"
   ]
  },
  {
   "cell_type": "code",
   "execution_count": 126,
   "id": "cfc41240",
   "metadata": {},
   "outputs": [
    {
     "data": {
      "text/plain": [
       "'su   dh '"
      ]
     },
     "execution_count": 126,
     "metadata": {},
     "output_type": "execute_result"
    }
   ],
   "source": [
    "s.lstrip()"
   ]
  },
  {
   "cell_type": "code",
   "execution_count": 127,
   "id": "06601869",
   "metadata": {},
   "outputs": [
    {
     "data": {
      "text/plain": [
       "'    su   dh'"
      ]
     },
     "execution_count": 127,
     "metadata": {},
     "output_type": "execute_result"
    }
   ],
   "source": [
    "s.rstrip()"
   ]
  },
  {
   "cell_type": "code",
   "execution_count": 129,
   "id": "7aa2120b",
   "metadata": {},
   "outputs": [
    {
     "data": {
      "text/plain": [
       "'aavaianaaasah'"
      ]
     },
     "execution_count": 129,
     "metadata": {},
     "output_type": "execute_result"
    }
   ],
   "source": [
    "\"a\" .join(\"avinash\")"
   ]
  },
  {
   "cell_type": "code",
   "execution_count": 132,
   "id": "17d7820b",
   "metadata": {},
   "outputs": [],
   "source": [
    "s = \"avin\""
   ]
  },
  {
   "cell_type": "code",
   "execution_count": 139,
   "id": "19147ad5",
   "metadata": {},
   "outputs": [
    {
     "data": {
      "text/plain": [
       "'###avin###'"
      ]
     },
     "execution_count": 139,
     "metadata": {},
     "output_type": "execute_result"
    }
   ],
   "source": [
    "s.center(10, \"#\")"
   ]
  },
  {
   "cell_type": "code",
   "execution_count": 135,
   "id": "8b694df3",
   "metadata": {},
   "outputs": [
    {
     "data": {
      "text/plain": [
       "False"
      ]
     },
     "execution_count": 135,
     "metadata": {},
     "output_type": "execute_result"
    }
   ],
   "source": [
    "s.isupper()"
   ]
  },
  {
   "cell_type": "code",
   "execution_count": 136,
   "id": "a59eb46c",
   "metadata": {},
   "outputs": [
    {
     "data": {
      "text/plain": [
       "True"
      ]
     },
     "execution_count": 136,
     "metadata": {},
     "output_type": "execute_result"
    }
   ],
   "source": [
    "s.islower()"
   ]
  },
  {
   "cell_type": "code",
   "execution_count": 138,
   "id": "43bdf73f",
   "metadata": {},
   "outputs": [
    {
     "data": {
      "text/plain": [
       "'avin'"
      ]
     },
     "execution_count": 138,
     "metadata": {},
     "output_type": "execute_result"
    }
   ],
   "source": [
    "s"
   ]
  },
  {
   "cell_type": "code",
   "execution_count": 141,
   "id": "40e44792",
   "metadata": {},
   "outputs": [],
   "source": [
    "s4 = \" \""
   ]
  },
  {
   "cell_type": "code",
   "execution_count": 142,
   "id": "638ef2fd",
   "metadata": {},
   "outputs": [
    {
     "data": {
      "text/plain": [
       "True"
      ]
     },
     "execution_count": 142,
     "metadata": {},
     "output_type": "execute_result"
    }
   ],
   "source": [
    "s4.isspace()"
   ]
  },
  {
   "cell_type": "code",
   "execution_count": 143,
   "id": "2f503eb3",
   "metadata": {},
   "outputs": [
    {
     "data": {
      "text/plain": [
       "False"
      ]
     },
     "execution_count": 143,
     "metadata": {},
     "output_type": "execute_result"
    }
   ],
   "source": [
    "s4.isdigit()"
   ]
  },
  {
   "cell_type": "code",
   "execution_count": 146,
   "id": "1b61e52c",
   "metadata": {},
   "outputs": [],
   "source": [
    "s5 = \"8898\""
   ]
  },
  {
   "cell_type": "code",
   "execution_count": 147,
   "id": "4e5e3e94",
   "metadata": {},
   "outputs": [
    {
     "data": {
      "text/plain": [
       "True"
      ]
     },
     "execution_count": 147,
     "metadata": {},
     "output_type": "execute_result"
    }
   ],
   "source": [
    "s5.isdigit()"
   ]
  },
  {
   "cell_type": "code",
   "execution_count": 148,
   "id": "7911ab0e",
   "metadata": {},
   "outputs": [
    {
     "data": {
      "text/plain": [
       "True"
      ]
     },
     "execution_count": 148,
     "metadata": {},
     "output_type": "execute_result"
    }
   ],
   "source": [
    "s5.isalnum()"
   ]
  },
  {
   "cell_type": "code",
   "execution_count": 149,
   "id": "722c094f",
   "metadata": {},
   "outputs": [
    {
     "data": {
      "text/plain": [
       "False"
      ]
     },
     "execution_count": 149,
     "metadata": {},
     "output_type": "execute_result"
    }
   ],
   "source": [
    "s5.isalpha()"
   ]
  },
  {
   "cell_type": "code",
   "execution_count": 152,
   "id": "d6e742b8",
   "metadata": {},
   "outputs": [
    {
     "data": {
      "text/plain": [
       "'avin'"
      ]
     },
     "execution_count": 152,
     "metadata": {},
     "output_type": "execute_result"
    }
   ],
   "source": [
    "s\n"
   ]
  },
  {
   "cell_type": "code",
   "execution_count": 160,
   "id": "9f78b1f3",
   "metadata": {},
   "outputs": [
    {
     "data": {
      "text/plain": [
       "False"
      ]
     },
     "execution_count": 160,
     "metadata": {},
     "output_type": "execute_result"
    }
   ],
   "source": [
    "s.startswith(\"s\")"
   ]
  },
  {
   "cell_type": "code",
   "execution_count": 161,
   "id": "7c73988e",
   "metadata": {},
   "outputs": [
    {
     "data": {
      "text/plain": [
       "True"
      ]
     },
     "execution_count": 161,
     "metadata": {},
     "output_type": "execute_result"
    }
   ],
   "source": [
    "s.startswith(\"a\")"
   ]
  },
  {
   "cell_type": "code",
   "execution_count": 162,
   "id": "4bfcc2f0",
   "metadata": {},
   "outputs": [
    {
     "data": {
      "text/plain": [
       "True"
      ]
     },
     "execution_count": 162,
     "metadata": {},
     "output_type": "execute_result"
    }
   ],
   "source": [
    "s.endswith('n')"
   ]
  },
  {
   "cell_type": "code",
   "execution_count": 167,
   "id": "1d24dccc",
   "metadata": {},
   "outputs": [
    {
     "data": {
      "text/plain": [
       "False"
      ]
     },
     "execution_count": 167,
     "metadata": {},
     "output_type": "execute_result"
    }
   ],
   "source": [
    "s.isnumeric()"
   ]
  },
  {
   "cell_type": "code",
   "execution_count": 168,
   "id": "425e0e52",
   "metadata": {},
   "outputs": [
    {
     "data": {
      "text/plain": [
       "True"
      ]
     },
     "execution_count": 168,
     "metadata": {},
     "output_type": "execute_result"
    }
   ],
   "source": [
    "s.isascii()"
   ]
  },
  {
   "cell_type": "code",
   "execution_count": 174,
   "id": "4fea0188",
   "metadata": {},
   "outputs": [],
   "source": [
    "a = \"alpana\""
   ]
  },
  {
   "cell_type": "code",
   "execution_count": 178,
   "id": "0eb4201a",
   "metadata": {},
   "outputs": [
    {
     "data": {
      "text/plain": [
       "'avpana'"
      ]
     },
     "execution_count": 178,
     "metadata": {},
     "output_type": "execute_result"
    }
   ],
   "source": [
    "a.replace(\"al\",\"av\")"
   ]
  },
  {
   "cell_type": "code",
   "execution_count": null,
   "id": "7aebd606",
   "metadata": {},
   "outputs": [],
   "source": [
    "s = \"sudh\""
   ]
  },
  {
   "cell_type": "code",
   "execution_count": 183,
   "id": "da94fda2",
   "metadata": {},
   "outputs": [
    {
     "data": {
      "text/plain": [
       "<reversed at 0x7f90f95cbeb0>"
      ]
     },
     "execution_count": 183,
     "metadata": {},
     "output_type": "execute_result"
    }
   ],
   "source": [
    "reversed(s)"
   ]
  },
  {
   "cell_type": "code",
   "execution_count": 184,
   "id": "43927e67",
   "metadata": {},
   "outputs": [
    {
     "data": {
      "text/plain": [
       "'idndedudrdodn'"
      ]
     },
     "execution_count": 184,
     "metadata": {},
     "output_type": "execute_result"
    }
   ],
   "source": [
    "'d'.join(\"ineuron\")"
   ]
  },
  {
   "cell_type": "code",
   "execution_count": 185,
   "id": "fc9824d0",
   "metadata": {},
   "outputs": [
    {
     "data": {
      "text/plain": [
       "'hdus'"
      ]
     },
     "execution_count": 185,
     "metadata": {},
     "output_type": "execute_result"
    }
   ],
   "source": [
    "\"\".join(reversed(\"sudh\"))"
   ]
  },
  {
   "cell_type": "code",
   "execution_count": null,
   "id": "e5d06c97",
   "metadata": {},
   "outputs": [],
   "source": []
  },
  {
   "cell_type": "code",
   "execution_count": null,
   "id": "5599bc49",
   "metadata": {},
   "outputs": [],
   "source": []
  },
  {
   "cell_type": "code",
   "execution_count": null,
   "id": "f28efebb",
   "metadata": {},
   "outputs": [],
   "source": []
  },
  {
   "cell_type": "code",
   "execution_count": null,
   "id": "d10250a6",
   "metadata": {},
   "outputs": [],
   "source": []
  },
  {
   "cell_type": "code",
   "execution_count": null,
   "id": "8f554359",
   "metadata": {},
   "outputs": [],
   "source": []
  },
  {
   "cell_type": "code",
   "execution_count": null,
   "id": "b33b4387",
   "metadata": {},
   "outputs": [],
   "source": []
  },
  {
   "cell_type": "code",
   "execution_count": null,
   "id": "ec80c6f8",
   "metadata": {},
   "outputs": [],
   "source": []
  },
  {
   "cell_type": "code",
   "execution_count": null,
   "id": "e13ba136",
   "metadata": {},
   "outputs": [],
   "source": []
  },
  {
   "cell_type": "code",
   "execution_count": null,
   "id": "fec6f4a9",
   "metadata": {},
   "outputs": [],
   "source": []
  },
  {
   "cell_type": "code",
   "execution_count": null,
   "id": "14a1177b",
   "metadata": {},
   "outputs": [],
   "source": []
  }
 ],
 "metadata": {
  "kernelspec": {
   "display_name": "Python 3 (ipykernel)",
   "language": "python",
   "name": "python3"
  },
  "language_info": {
   "codemirror_mode": {
    "name": "ipython",
    "version": 3
   },
   "file_extension": ".py",
   "mimetype": "text/x-python",
   "name": "python",
   "nbconvert_exporter": "python",
   "pygments_lexer": "ipython3",
   "version": "3.9.7"
  }
 },
 "nbformat": 4,
 "nbformat_minor": 5
}
