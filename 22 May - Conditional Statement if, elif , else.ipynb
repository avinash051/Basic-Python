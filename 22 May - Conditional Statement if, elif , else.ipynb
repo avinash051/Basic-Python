{
 "cells": [
  {
   "cell_type": "code",
   "execution_count": 1,
   "id": "9a25bfbe",
   "metadata": {},
   "outputs": [
    {
     "name": "stdout",
     "output_type": "stream",
     "text": [
      "True\n"
     ]
    }
   ],
   "source": [
    "a = 10\n",
    "if a ==10:\n",
    "    print(\"True\")\n",
    "else:\n",
    "    print(\"False\")"
   ]
  },
  {
   "cell_type": "code",
   "execution_count": 2,
   "id": "e0cc412a",
   "metadata": {},
   "outputs": [],
   "source": [
    "a = 10\n",
    "if a>5:\n",
    "    pass"
   ]
  },
  {
   "cell_type": "code",
   "execution_count": 3,
   "id": "ce94cd97",
   "metadata": {},
   "outputs": [
    {
     "name": "stdout",
     "output_type": "stream",
     "text": [
      "false statment\n"
     ]
    }
   ],
   "source": [
    "a = 10 \n",
    "if a <8:\n",
    "    print(\"this is my first condition\")\n",
    "else:\n",
    "    print(\"false statment\")"
   ]
  },
  {
   "cell_type": "code",
   "execution_count": 4,
   "id": "d0d2d597",
   "metadata": {},
   "outputs": [
    {
     "name": "stdout",
     "output_type": "stream",
     "text": [
      "this is\n"
     ]
    }
   ],
   "source": [
    "    a = 10\n",
    "    if a!=10:\n",
    "        print(\"my condition is false\")\n",
    "    else:\n",
    "        print(\"this is\")"
   ]
  },
  {
   "cell_type": "code",
   "execution_count": 5,
   "id": "7aab1c40",
   "metadata": {},
   "outputs": [
    {
     "name": "stdout",
     "output_type": "stream",
     "text": [
      "comparing 10 with 11\n"
     ]
    }
   ],
   "source": [
    "a = 10\n",
    "if a == 12:\n",
    "    print(\"here we are trying to compare 10 with 12\")\n",
    "elif a == 10:\n",
    "    print(\"comparing 10 with 11\")\n",
    "else:\n",
    "    print(\"if all the block will fail then do this\")"
   ]
  },
  {
   "cell_type": "code",
   "execution_count": 6,
   "id": "8bc71d35",
   "metadata": {},
   "outputs": [
    {
     "name": "stdout",
     "output_type": "stream",
     "text": [
      "for sure i will be able to buy\n"
     ]
    }
   ],
   "source": [
    "price = 500\n",
    "if price > 500:\n",
    "    print(\"may b i wont able to buy a jacket\")\n",
    "elif price < 500 :\n",
    "    print(\"i will be able to buy a jacket\")\n",
    "elif price ==500:\n",
    "    print(\"for sure i will be able to buy\")\n",
    "else:\n",
    "    print(\"i dont knwo\")"
   ]
  },
  {
   "cell_type": "code",
   "execution_count": 7,
   "id": "ec7a728f",
   "metadata": {},
   "outputs": [
    {
     "data": {
      "text/plain": [
       "False"
      ]
     },
     "execution_count": 7,
     "metadata": {},
     "output_type": "execute_result"
    }
   ],
   "source": [
    "price >500"
   ]
  },
  {
   "cell_type": "code",
   "execution_count": 8,
   "id": "c9aad3c5",
   "metadata": {},
   "outputs": [
    {
     "data": {
      "text/plain": [
       "True"
      ]
     },
     "execution_count": 8,
     "metadata": {},
     "output_type": "execute_result"
    }
   ],
   "source": [
    "l = [1,2,3,4,5,6]\n",
    "2 in l"
   ]
  },
  {
   "cell_type": "code",
   "execution_count": 9,
   "id": "fe8e5e12",
   "metadata": {},
   "outputs": [
    {
     "name": "stdout",
     "output_type": "stream",
     "text": [
      "do not perform the task\n"
     ]
    }
   ],
   "source": [
    "if 60 in l:\n",
    "    print(\"try to perform a task\")\n",
    "else:\n",
    "    print(\"do not perform the task\")"
   ]
  },
  {
   "cell_type": "code",
   "execution_count": 10,
   "id": "0b262a85",
   "metadata": {},
   "outputs": [
    {
     "data": {
      "text/plain": [
       "[1, 2, 3, 4, 5, 6]"
      ]
     },
     "execution_count": 10,
     "metadata": {},
     "output_type": "execute_result"
    }
   ],
   "source": [
    "l"
   ]
  },
  {
   "cell_type": "code",
   "execution_count": 11,
   "id": "c51207ac",
   "metadata": {},
   "outputs": [
    {
     "name": "stdout",
     "output_type": "stream",
     "text": [
      "try to do sub\n",
      "this is a new statment\n"
     ]
    }
   ],
   "source": [
    "if 10 in l:\n",
    "    print(\"try to do addition\")\n",
    "elif 2 in l:\n",
    "    print(\"try to do sub\")\n",
    "elif 3 in 1:\n",
    "    print(\"try to do mul\")\n",
    "if 4 in l:\n",
    "    print(\"this is a new statment\")"
   ]
  },
  {
   "cell_type": "code",
   "execution_count": 12,
   "id": "b49a777a",
   "metadata": {},
   "outputs": [],
   "source": [
    "a = 400"
   ]
  },
  {
   "cell_type": "code",
   "execution_count": null,
   "id": "98d1e490",
   "metadata": {},
   "outputs": [],
   "source": [
    "b = int(input())"
   ]
  },
  {
   "cell_type": "code",
   "execution_count": null,
   "id": "b42f2385",
   "metadata": {},
   "outputs": [],
   "source": [
    "type(b)"
   ]
  },
  {
   "cell_type": "code",
   "execution_count": null,
   "id": "6520b1c5",
   "metadata": {},
   "outputs": [],
   "source": [
    "price = int(input())\n",
    "if price < 500:\n",
    "    print(\"able to buy something\")\n",
    "    if price <400:\n",
    "        print(\"i will be able to buy a jacket\")\n",
    "    elif price <300:\n",
    "        print(\" i will be able to buy a shirt\")\n",
    "    else:\n",
    "        print(\"i won't be able to buy anyhthing\")\n",
    "else:\n",
    "    print(\"i wont be able to buy anything with this price tag\")\n",
    "    if price > 500:\n",
    "        print(\"let's try something else\")"
   ]
  },
  {
   "cell_type": "code",
   "execution_count": null,
   "id": "9eafc780",
   "metadata": {},
   "outputs": [],
   "source": [
    "marks  = 300\n",
    "if marks> 600:\n",
    "    print(\"eligbile for GRE\")\n",
    "elif marks < 500:\n",
    "    print(\"No GRE\")\n",
    "    if marks<500:\n",
    "        print(\"you are elible for toffel\")\n",
    "    elif marks < 400:\n",
    "        print(\" try something else\")\n",
    "    "
   ]
  },
  {
   "cell_type": "code",
   "execution_count": null,
   "id": "6eda557e",
   "metadata": {},
   "outputs": [],
   "source": [
    "val = float(input(\"enter a floating point number =\"))\n",
    "if val >=0:\n",
    "    if val ==0:\n",
    "        print(\"entered value is zero\")\n",
    "    else :\n",
    "        print(\"entered value is positive number\")\n",
    "else:\n",
    "    print(\"entered number is -ve number\")\n",
    "    "
   ]
  },
  {
   "cell_type": "code",
   "execution_count": 22,
   "id": "71d55a4b",
   "metadata": {},
   "outputs": [
    {
     "name": "stdout",
     "output_type": "stream",
     "text": [
      "try to do something\n"
     ]
    }
   ],
   "source": [
    "a = 10\n",
    "if a == 10 and a >=10:\n",
    "    print(\"try to do something\")"
   ]
  },
  {
   "cell_type": "code",
   "execution_count": 23,
   "id": "d797304d",
   "metadata": {},
   "outputs": [
    {
     "name": "stdout",
     "output_type": "stream",
     "text": [
      "do something\n"
     ]
    }
   ],
   "source": [
    "a = 10\n",
    "b =11\n",
    "c = 12\n",
    "d = 13\n",
    "if a ==9 or b ==11 and c ==12 and d ==13:\n",
    "    print(\"do something\")"
   ]
  },
  {
   "cell_type": "code",
   "execution_count": 26,
   "id": "5f5b4ddb",
   "metadata": {},
   "outputs": [],
   "source": [
    "d = {\"key\" : \"value\", \"key2\": \"sudh\", \"key3\": \"iNeron\"}"
   ]
  },
  {
   "cell_type": "code",
   "execution_count": 28,
   "id": "528cb83d",
   "metadata": {},
   "outputs": [
    {
     "name": "stdout",
     "output_type": "stream",
     "text": [
      "all value are varified\n",
      "dict_values(['value', 'sudh', 'iNeron'])\n"
     ]
    }
   ],
   "source": [
    "if d['key']==\"value\" and d['key2']==\"sudh\" and d[\"key3\"]==\"iNeron\":\n",
    "    print(\"all value are varified\")\n",
    "    print(d.values())\n",
    "else:\n",
    "    print(\"all values are not varified\")"
   ]
  },
  {
   "cell_type": "code",
   "execution_count": 29,
   "id": "89a9f6aa",
   "metadata": {},
   "outputs": [],
   "source": [
    "l = [1,2,3,4,5,\"sudh\", 234.45]"
   ]
  },
  {
   "cell_type": "code",
   "execution_count": 32,
   "id": "eab8ed83",
   "metadata": {},
   "outputs": [
    {
     "data": {
      "text/plain": [
       "2"
      ]
     },
     "execution_count": 32,
     "metadata": {},
     "output_type": "execute_result"
    }
   ],
   "source": [
    "l[1]"
   ]
  },
  {
   "cell_type": "code",
   "execution_count": 33,
   "id": "b3cc3f4c",
   "metadata": {},
   "outputs": [
    {
     "data": {
      "text/plain": [
       "[3, 4, 5]"
      ]
     },
     "execution_count": 33,
     "metadata": {},
     "output_type": "execute_result"
    }
   ],
   "source": [
    "l[2:5]"
   ]
  },
  {
   "cell_type": "code",
   "execution_count": 38,
   "id": "2686714c",
   "metadata": {},
   "outputs": [
    {
     "name": "stdout",
     "output_type": "stream",
     "text": [
      "1\n",
      "2\n",
      "3\n",
      "4\n",
      "5\n",
      "sudh\n",
      "234.45\n"
     ]
    }
   ],
   "source": [
    "for i in l:\n",
    "    \n",
    "    print(i)"
   ]
  },
  {
   "cell_type": "code",
   "execution_count": null,
   "id": "98672169",
   "metadata": {},
   "outputs": [],
   "source": []
  },
  {
   "cell_type": "code",
   "execution_count": null,
   "id": "0db1604d",
   "metadata": {},
   "outputs": [],
   "source": []
  }
 ],
 "metadata": {
  "kernelspec": {
   "display_name": "Python 3 (ipykernel)",
   "language": "python",
   "name": "python3"
  },
  "language_info": {
   "codemirror_mode": {
    "name": "ipython",
    "version": 3
   },
   "file_extension": ".py",
   "mimetype": "text/x-python",
   "name": "python",
   "nbconvert_exporter": "python",
   "pygments_lexer": "ipython3",
   "version": "3.9.7"
  }
 },
 "nbformat": 4,
 "nbformat_minor": 5
}
